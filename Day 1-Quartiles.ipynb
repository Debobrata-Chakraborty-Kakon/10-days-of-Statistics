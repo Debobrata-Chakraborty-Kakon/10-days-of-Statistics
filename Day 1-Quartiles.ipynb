{
 "cells": [
  {
   "cell_type": "code",
   "execution_count": 20,
   "id": "872fcf30",
   "metadata": {},
   "outputs": [
    {
     "name": "stdout",
     "output_type": "stream",
     "text": [
      "9\n",
      "3 7 8 5 12 14 21 13 18\n",
      "6\n",
      "12\n",
      "6\n",
      "12\n",
      "16\n"
     ]
    }
   ],
   "source": [
    "median_l=[]\n",
    "count=0\n",
    "m=[]\n",
    "def getMedian(list):\n",
    "    median = 0.0\n",
    "    global count\n",
    "    size = len(list)\n",
    "    copy = list\n",
    "    \n",
    "    copy.sort()\n",
    "    if(size % 2 == 0):\n",
    "        median = float(copy[int(size//2 - 1)] + copy[int(size//2)]) / 2\n",
    "        mid_index=int(size//2 - 1)\n",
    "\n",
    "    else:\n",
    "        median = copy[int((size-1)/2)]      \n",
    "        mid_index=int((size-1)/2)\n",
    "    \n",
    "    median_l.append(int(median))\n",
    "    \n",
    "    if(count==0):\n",
    "        if(size%2==0):\n",
    "            LH=a[:(mid_index+1)]\n",
    "            UH=a[(mid_index+1):]\n",
    "            count=1\n",
    "\n",
    "        else:\n",
    "            LH=a[:(mid_index)]\n",
    "            UH=a[(mid_index+1):]\n",
    "            count=1\n",
    "        return LH,UH\n",
    "    elif (count==1):\n",
    "        median_l.sort()\n",
    "        print(*median_l, sep = \"\\n\")\n",
    "    \n",
    "    \n",
    "\n",
    "size = int(input())\n",
    "a=[]\n",
    "a = list(map(int,input().split()))[:size] \n",
    "LH,UH=getMedian(a)\n",
    "getMedian(LH)\n",
    "getMedian(UH)"
   ]
  },
  {
   "cell_type": "code",
   "execution_count": 30,
   "id": "24c819a3",
   "metadata": {},
   "outputs": [
    {
     "name": "stdout",
     "output_type": "stream",
     "text": [
      "[12]\n",
      "[12, 9]\n",
      "[12, 9, 2]\n"
     ]
    }
   ],
   "source": [
    "x_l=[]\n",
    "x_l.append(12)\n",
    "print(x_l)\n",
    "x_l.append(9)\n",
    "print(x_l)\n",
    "x_l.append(2)\n",
    "print(x_l)\n"
   ]
  },
  {
   "cell_type": "code",
   "execution_count": 19,
   "id": "d8813e96",
   "metadata": {},
   "outputs": [
    {
     "name": "stdout",
     "output_type": "stream",
     "text": [
      "2 4 5 10 30\n",
      "printing lists in new line\n",
      "2\n",
      "4\n",
      "5\n",
      "10\n",
      "30\n"
     ]
    }
   ],
   "source": [
    "a = [30, 2, 10, 4, 5]\n",
    "a.sort()\n",
    "# printing the list using * operator separated \n",
    "# by space \n",
    "print(*a)\n",
    "\n",
    "print(\"printing lists in new line\")\n",
    "  \n",
    "print(*a, sep = \"\\n\")"
   ]
  },
  {
   "cell_type": "code",
   "execution_count": null,
   "id": "57faddb4",
   "metadata": {},
   "outputs": [],
   "source": []
  }
 ],
 "metadata": {
  "kernelspec": {
   "display_name": "Python 3 (ipykernel)",
   "language": "python",
   "name": "python3"
  },
  "language_info": {
   "codemirror_mode": {
    "name": "ipython",
    "version": 3
   },
   "file_extension": ".py",
   "mimetype": "text/x-python",
   "name": "python",
   "nbconvert_exporter": "python",
   "pygments_lexer": "ipython3",
   "version": "3.7.7"
  }
 },
 "nbformat": 4,
 "nbformat_minor": 5
}
