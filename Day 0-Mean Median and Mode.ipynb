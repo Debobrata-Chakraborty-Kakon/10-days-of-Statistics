{
 "cells": [
  {
   "cell_type": "code",
   "execution_count": 12,
   "id": "e0ece0a7",
   "metadata": {},
   "outputs": [
    {
     "data": {
      "text/plain": [
       "5"
      ]
     },
     "execution_count": 12,
     "metadata": {},
     "output_type": "execute_result"
    }
   ],
   "source": [
    "x=[1,2,3,4,5]\n",
    "s=len(x)\n",
    "s"
   ]
  },
  {
   "cell_type": "code",
   "execution_count": 7,
   "id": "837205aa",
   "metadata": {},
   "outputs": [
    {
     "data": {
      "text/plain": [
       "1"
      ]
     },
     "execution_count": 7,
     "metadata": {},
     "output_type": "execute_result"
    }
   ],
   "source": [
    "x[0]"
   ]
  },
  {
   "cell_type": "code",
   "execution_count": 8,
   "id": "09df5aa5",
   "metadata": {},
   "outputs": [
    {
     "data": {
      "text/plain": [
       "6"
      ]
     },
     "execution_count": 8,
     "metadata": {},
     "output_type": "execute_result"
    }
   ],
   "source": [
    "x[5]"
   ]
  },
  {
   "cell_type": "code",
   "execution_count": 13,
   "id": "458680fe",
   "metadata": {},
   "outputs": [
    {
     "data": {
      "text/plain": [
       "2"
      ]
     },
     "execution_count": 13,
     "metadata": {},
     "output_type": "execute_result"
    }
   ],
   "source": [
    "s//2"
   ]
  },
  {
   "cell_type": "code",
   "execution_count": 22,
   "id": "eba9dfb3",
   "metadata": {},
   "outputs": [
    {
     "data": {
      "text/plain": [
       "2.0"
      ]
     },
     "execution_count": 22,
     "metadata": {},
     "output_type": "execute_result"
    }
   ],
   "source": [
    "(s-1)/2\n"
   ]
  },
  {
   "cell_type": "code",
   "execution_count": 24,
   "id": "507c8c09",
   "metadata": {},
   "outputs": [
    {
     "data": {
      "text/plain": [
       "3"
      ]
     },
     "execution_count": 24,
     "metadata": {},
     "output_type": "execute_result"
    }
   ],
   "source": [
    "x[int((s-1)/2)]"
   ]
  },
  {
   "cell_type": "code",
   "execution_count": 28,
   "id": "fb066953",
   "metadata": {},
   "outputs": [
    {
     "name": "stdout",
     "output_type": "stream",
     "text": [
      "10\n",
      "1 2 3 4 5 6 7 8 9 10 11 \n",
      "5.5\n",
      "5.5\n",
      "1\n"
     ]
    }
   ],
   "source": [
    "\n",
    "def getMean(list):\n",
    "    sum = 0\n",
    "    for i in list:\n",
    "        sum += i\n",
    "    mean = float(sum) / len(list)\n",
    "    return mean\n",
    "\n",
    "def getMedian(list):\n",
    "    median = 0.0\n",
    "    size = len(list)\n",
    "    copy = list\n",
    "    copy.sort()\n",
    "    if(size % 2 == 0):\n",
    "        median = float(copy[int(size//2 - 1)] + copy[int(size//2)]) / 2\n",
    "    else:\n",
    "        median = copy[int((size-1)/2)]\n",
    "    return median\n",
    "\n",
    "def getMode(list):\n",
    "    mode = 0\n",
    "    size = len(list)\n",
    "    count, max = 0, 0\n",
    "    copy = list\n",
    "    copy.sort()\n",
    "    current = 0\n",
    "    for i in copy:\n",
    "        if (i == current):\n",
    "            count += 1\n",
    "        else:\n",
    "            count = 1\n",
    "            current = i\n",
    "        if (count > max):\n",
    "            max = count\n",
    "            mode = i\n",
    "    return mode\n",
    "\n",
    "\n",
    "size = int(input())\n",
    "a=[]\n",
    "a = list(map(int,input().split()))[:size] \n",
    "print(getMean(a))\n",
    "print(getMedian(a))\n",
    "print(getMode(a))"
   ]
  },
  {
   "cell_type": "code",
   "execution_count": null,
   "id": "d03786e5",
   "metadata": {},
   "outputs": [],
   "source": [
    "a = list(map(int,input().split(\",\"))) #for comma input"
   ]
  }
 ],
 "metadata": {
  "kernelspec": {
   "display_name": "Python 3 (ipykernel)",
   "language": "python",
   "name": "python3"
  },
  "language_info": {
   "codemirror_mode": {
    "name": "ipython",
    "version": 3
   },
   "file_extension": ".py",
   "mimetype": "text/x-python",
   "name": "python",
   "nbconvert_exporter": "python",
   "pygments_lexer": "ipython3",
   "version": "3.7.7"
  }
 },
 "nbformat": 4,
 "nbformat_minor": 5
}
