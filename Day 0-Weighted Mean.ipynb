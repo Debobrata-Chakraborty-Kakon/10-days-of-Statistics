{
 "cells": [
  {
   "cell_type": "code",
   "execution_count": 14,
   "id": "980b3dc3",
   "metadata": {},
   "outputs": [
    {
     "name": "stdout",
     "output_type": "stream",
     "text": [
      "3\n",
      "1 2 3\n",
      "4 5 6\n",
      "\n",
      "2.1\n"
     ]
    }
   ],
   "source": [
    "import numpy as np\n",
    "\n",
    "\n",
    "def WeightedMean(X,W):\n",
    "    \n",
    "    Y=X*W\n",
    "    m=np.sum(Y)\n",
    "    w=np.sum(W)\n",
    "    w_m=float(m/w)\n",
    "    print(format(w_m,\".1f\"))\n",
    "\n",
    "\n",
    "\n",
    "size=int(input())\n",
    "X=np.array(list(map(int,input().split())))[:size]\n",
    "W=np.array(list(map(int,input().split())))[:size]\n",
    "print()\n",
    "WeightedMean(X,W)"
   ]
  },
  {
   "cell_type": "code",
   "execution_count": 19,
   "id": "56a3b620",
   "metadata": {},
   "outputs": [
    {
     "name": "stdout",
     "output_type": "stream",
     "text": [
      "5\n",
      "10 40 30 50 20 \n",
      "1 2 3 4 5\n",
      "\n",
      "32.0\n"
     ]
    }
   ],
   "source": [
    "def WeightedMean(X,W):\n",
    "    Y=[]\n",
    "    w=0\n",
    "    m=0\n",
    "    for num1, num2 in zip(X, W):\n",
    "        Y.append(num1 * num2)\n",
    "    \n",
    "    \n",
    "    m=sum(Y)\n",
    "    w=sum(W)\n",
    "    w_m=float(m/w)\n",
    "    print(format(w_m,\".1f\"))\n",
    "\n",
    "\n",
    "\n",
    "size=int(input())\n",
    "X=(list(map(int,input().split())))[:size]\n",
    "W=(list(map(int,input().split())))[:size]\n",
    "print()\n",
    "WeightedMean(X,W)"
   ]
  },
  {
   "cell_type": "code",
   "execution_count": null,
   "id": "a4550b40",
   "metadata": {},
   "outputs": [],
   "source": []
  }
 ],
 "metadata": {
  "kernelspec": {
   "display_name": "Python 3 (ipykernel)",
   "language": "python",
   "name": "python3"
  },
  "language_info": {
   "codemirror_mode": {
    "name": "ipython",
    "version": 3
   },
   "file_extension": ".py",
   "mimetype": "text/x-python",
   "name": "python",
   "nbconvert_exporter": "python",
   "pygments_lexer": "ipython3",
   "version": "3.7.7"
  }
 },
 "nbformat": 4,
 "nbformat_minor": 5
}
